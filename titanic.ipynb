{
 "cells": [
  {
   "cell_type": "code",
   "execution_count": 1,
   "id": "f6322012",
   "metadata": {
    "_cell_guid": "b1076dfc-b9ad-4769-8c92-a6c4dae69d19",
    "_uuid": "8f2839f25d086af736a60e9eeb907d3b93b6e0e5",
    "execution": {
     "iopub.execute_input": "2023-07-17T13:02:30.775851Z",
     "iopub.status.busy": "2023-07-17T13:02:30.775377Z",
     "iopub.status.idle": "2023-07-17T13:02:30.791765Z",
     "shell.execute_reply": "2023-07-17T13:02:30.790605Z"
    },
    "papermill": {
     "duration": 0.026686,
     "end_time": "2023-07-17T13:02:30.794519",
     "exception": false,
     "start_time": "2023-07-17T13:02:30.767833",
     "status": "completed"
    },
    "tags": []
   },
   "outputs": [
    {
     "name": "stdout",
     "output_type": "stream",
     "text": [
      "/kaggle/input/titanic/train.csv\n",
      "/kaggle/input/titanic/test.csv\n",
      "/kaggle/input/titanic/gender_submission.csv\n"
     ]
    }
   ],
   "source": [
    "# This Python 3 environment comes with many helpful analytics libraries installed\n",
    "# It is defined by the kaggle/python Docker image: https://github.com/kaggle/docker-python\n",
    "# For example, here's several helpful packages to load\n",
    "\n",
    "import numpy as np # linear algebra\n",
    "import pandas as pd # data processing, CSV file I/O (e.g. pd.read_csv)\n",
    "\n",
    "# Input data files are available in the read-only \"../input/\" directory\n",
    "# For example, running this (by clicking run or pressing Shift+Enter) will list all files under the input directory\n",
    "\n",
    "import os\n",
    "for dirname, _, filenames in os.walk('/kaggle/input'):\n",
    "    for filename in filenames:\n",
    "        print(os.path.join(dirname, filename))\n",
    "\n",
    "# You can write up to 20GB to the current directory (/kaggle/working/) that gets preserved as output when you create a version using \"Save & Run All\" \n",
    "# You can also write temporary files to /kaggle/temp/, but they won't be saved outside of the current session"
   ]
  },
  {
   "cell_type": "raw",
   "id": "3861c928",
   "metadata": {
    "execution": {
     "iopub.execute_input": "2023-07-17T12:26:18.062826Z",
     "iopub.status.busy": "2023-07-17T12:26:18.062276Z",
     "iopub.status.idle": "2023-07-17T12:26:18.088777Z",
     "shell.execute_reply": "2023-07-17T12:26:18.087548Z",
     "shell.execute_reply.started": "2023-07-17T12:26:18.062785Z"
    },
    "papermill": {
     "duration": 0.003406,
     "end_time": "2023-07-17T13:02:30.801889",
     "exception": false,
     "start_time": "2023-07-17T13:02:30.798483",
     "status": "completed"
    },
    "tags": []
   },
   "source": []
  },
  {
   "cell_type": "code",
   "execution_count": 2,
   "id": "ea294df1",
   "metadata": {
    "execution": {
     "iopub.execute_input": "2023-07-17T13:02:30.811242Z",
     "iopub.status.busy": "2023-07-17T13:02:30.810812Z",
     "iopub.status.idle": "2023-07-17T13:02:30.863938Z",
     "shell.execute_reply": "2023-07-17T13:02:30.862707Z"
    },
    "papermill": {
     "duration": 0.061222,
     "end_time": "2023-07-17T13:02:30.866826",
     "exception": false,
     "start_time": "2023-07-17T13:02:30.805604",
     "status": "completed"
    },
    "tags": []
   },
   "outputs": [
    {
     "name": "stdout",
     "output_type": "stream",
     "text": [
      "<class 'pandas.core.frame.DataFrame'>\n",
      "RangeIndex: 891 entries, 0 to 890\n",
      "Data columns (total 12 columns):\n",
      " #   Column       Non-Null Count  Dtype  \n",
      "---  ------       --------------  -----  \n",
      " 0   PassengerId  891 non-null    int64  \n",
      " 1   Survived     891 non-null    int64  \n",
      " 2   Pclass       891 non-null    int64  \n",
      " 3   Name         891 non-null    object \n",
      " 4   Sex          891 non-null    object \n",
      " 5   Age          714 non-null    float64\n",
      " 6   SibSp        891 non-null    int64  \n",
      " 7   Parch        891 non-null    int64  \n",
      " 8   Ticket       891 non-null    object \n",
      " 9   Fare         891 non-null    float64\n",
      " 10  Cabin        204 non-null    object \n",
      " 11  Embarked     889 non-null    object \n",
      "dtypes: float64(2), int64(5), object(5)\n",
      "memory usage: 83.7+ KB\n"
     ]
    }
   ],
   "source": [
    "df_train= pd.read_csv('/kaggle/input/titanic/train.csv')\n",
    "df_train.head()\n",
    "df_train.info()\n"
   ]
  },
  {
   "cell_type": "code",
   "execution_count": 3,
   "id": "d8378486",
   "metadata": {
    "execution": {
     "iopub.execute_input": "2023-07-17T13:02:30.877257Z",
     "iopub.status.busy": "2023-07-17T13:02:30.876513Z",
     "iopub.status.idle": "2023-07-17T13:02:30.898523Z",
     "shell.execute_reply": "2023-07-17T13:02:30.897293Z"
    },
    "papermill": {
     "duration": 0.030299,
     "end_time": "2023-07-17T13:02:30.901164",
     "exception": false,
     "start_time": "2023-07-17T13:02:30.870865",
     "status": "completed"
    },
    "tags": []
   },
   "outputs": [
    {
     "name": "stdout",
     "output_type": "stream",
     "text": [
      "<class 'pandas.core.frame.DataFrame'>\n",
      "RangeIndex: 418 entries, 0 to 417\n",
      "Data columns (total 11 columns):\n",
      " #   Column       Non-Null Count  Dtype  \n",
      "---  ------       --------------  -----  \n",
      " 0   PassengerId  418 non-null    int64  \n",
      " 1   Pclass       418 non-null    int64  \n",
      " 2   Name         418 non-null    object \n",
      " 3   Sex          418 non-null    object \n",
      " 4   Age          332 non-null    float64\n",
      " 5   SibSp        418 non-null    int64  \n",
      " 6   Parch        418 non-null    int64  \n",
      " 7   Ticket       418 non-null    object \n",
      " 8   Fare         417 non-null    float64\n",
      " 9   Cabin        91 non-null     object \n",
      " 10  Embarked     418 non-null    object \n",
      "dtypes: float64(2), int64(4), object(5)\n",
      "memory usage: 36.0+ KB\n"
     ]
    }
   ],
   "source": [
    "df_test=pd.read_csv('/kaggle/input/titanic/test.csv')\n",
    "df_test.head(4)\n",
    "df_test.info()"
   ]
  },
  {
   "cell_type": "code",
   "execution_count": 4,
   "id": "a600fbdd",
   "metadata": {
    "execution": {
     "iopub.execute_input": "2023-07-17T13:02:30.914648Z",
     "iopub.status.busy": "2023-07-17T13:02:30.914209Z",
     "iopub.status.idle": "2023-07-17T13:02:30.926230Z",
     "shell.execute_reply": "2023-07-17T13:02:30.924869Z"
    },
    "papermill": {
     "duration": 0.025414,
     "end_time": "2023-07-17T13:02:30.931166",
     "exception": false,
     "start_time": "2023-07-17T13:02:30.905752",
     "status": "completed"
    },
    "tags": []
   },
   "outputs": [
    {
     "name": "stdout",
     "output_type": "stream",
     "text": [
      "% of women who survived: 0.7420382165605095\n"
     ]
    }
   ],
   "source": [
    "women = df_train.loc[df_train.Sex == 'female'][\"Survived\"]\n",
    "rate_women = sum(women)/len(women)\n",
    "\n",
    "print(\"% of women who survived:\", rate_women)"
   ]
  },
  {
   "cell_type": "code",
   "execution_count": 5,
   "id": "165574cb",
   "metadata": {
    "execution": {
     "iopub.execute_input": "2023-07-17T13:02:30.945142Z",
     "iopub.status.busy": "2023-07-17T13:02:30.943120Z",
     "iopub.status.idle": "2023-07-17T13:02:30.952635Z",
     "shell.execute_reply": "2023-07-17T13:02:30.951603Z"
    },
    "papermill": {
     "duration": 0.018954,
     "end_time": "2023-07-17T13:02:30.955732",
     "exception": false,
     "start_time": "2023-07-17T13:02:30.936778",
     "status": "completed"
    },
    "tags": []
   },
   "outputs": [
    {
     "name": "stdout",
     "output_type": "stream",
     "text": [
      "0.18890814558058924\n"
     ]
    }
   ],
   "source": [
    "men=df_train.loc[df_train.Sex=='male']['Survived']\n",
    "rate_men=sum(men)/len(men)\n",
    "print(rate_men)"
   ]
  },
  {
   "cell_type": "code",
   "execution_count": 6,
   "id": "81995f5a",
   "metadata": {
    "execution": {
     "iopub.execute_input": "2023-07-17T13:02:30.970006Z",
     "iopub.status.busy": "2023-07-17T13:02:30.969249Z",
     "iopub.status.idle": "2023-07-17T13:02:32.908054Z",
     "shell.execute_reply": "2023-07-17T13:02:32.906885Z"
    },
    "papermill": {
     "duration": 1.948784,
     "end_time": "2023-07-17T13:02:32.910430",
     "exception": false,
     "start_time": "2023-07-17T13:02:30.961646",
     "status": "completed"
    },
    "tags": []
   },
   "outputs": [
    {
     "name": "stderr",
     "output_type": "stream",
     "text": [
      "/opt/conda/lib/python3.10/site-packages/scipy/__init__.py:146: UserWarning: A NumPy version >=1.16.5 and <1.23.0 is required for this version of SciPy (detected version 1.23.5\n",
      "  warnings.warn(f\"A NumPy version >={np_minversion} and <{np_maxversion}\"\n"
     ]
    },
    {
     "name": "stdout",
     "output_type": "stream",
     "text": [
      "my submssion was successefully saved!\n"
     ]
    }
   ],
   "source": [
    "from sklearn.ensemble import RandomForestClassifier\n",
    "y=df_train['Survived']\n",
    "features=[\"Pclass\", \"Sex\", \"SibSp\", \"Parch\"]\n",
    "X=pd.get_dummies(df_train[features])\n",
    "X_test = pd.get_dummies(df_test[features])\n",
    "\n",
    "model=RandomForestClassifier(n_estimators=100, max_depth=5, random_state=1)\n",
    "model.fit(X,y)\n",
    "predictions=model.predict(X_test)\n",
    "\n",
    "output= pd.DataFrame({'PassengerId': df_test.PassengerId, 'Survived': predictions})\n",
    "output.to_csv('submission_titanik_csv', index= False)\n",
    "print('my submssion was successefully saved!')"
   ]
  },
  {
   "cell_type": "code",
   "execution_count": null,
   "id": "755943ab",
   "metadata": {
    "papermill": {
     "duration": 0.004044,
     "end_time": "2023-07-17T13:02:32.919029",
     "exception": false,
     "start_time": "2023-07-17T13:02:32.914985",
     "status": "completed"
    },
    "tags": []
   },
   "outputs": [],
   "source": []
  }
 ],
 "metadata": {
  "kernelspec": {
   "display_name": "Python 3",
   "language": "python",
   "name": "python3"
  },
  "language_info": {
   "codemirror_mode": {
    "name": "ipython",
    "version": 3
   },
   "file_extension": ".py",
   "mimetype": "text/x-python",
   "name": "python",
   "nbconvert_exporter": "python",
   "pygments_lexer": "ipython3",
   "version": "3.10.12"
  },
  "papermill": {
   "default_parameters": {},
   "duration": 15.455255,
   "end_time": "2023-07-17T13:02:33.945759",
   "environment_variables": {},
   "exception": null,
   "input_path": "__notebook__.ipynb",
   "output_path": "__notebook__.ipynb",
   "parameters": {},
   "start_time": "2023-07-17T13:02:18.490504",
   "version": "2.4.0"
  }
 },
 "nbformat": 4,
 "nbformat_minor": 5
}
